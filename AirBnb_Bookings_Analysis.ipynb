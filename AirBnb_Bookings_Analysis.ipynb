{
  "nbformat": 4,
  "nbformat_minor": 0,
  "metadata": {
    "colab": {
      "private_outputs": true,
      "provenance": [],
      "collapsed_sections": [
        "vncDsAP0Gaoa",
        "FJNUwmbgGyua",
        "w6K7xa23Elo4",
        "yQaldy8SH6Dl",
        "PH-0ReGfmX4f",
        "mDgbUHAGgjLW",
        "O_i_v8NEhb9l",
        "HhfV-JJviCcP",
        "Y3lxredqlCYt",
        "3RnN4peoiCZX",
        "x71ZqKXriCWQ",
        "7hBIi_osiCS2",
        "JlHwYmJAmNHm",
        "35m5QtbWiB9F",
        "PoPl-ycgm1ru",
        "H0kj-8xxnORC",
        "nA9Y7ga8ng1Z",
        "PBTbrJXOngz2",
        "u3PMJOP6ngxN",
        "dauF4eBmngu3",
        "bKJF3rekwFvQ",
        "MSa1f5Uengrz",
        "GF8Ens_Soomf",
        "0wOQAZs5pc--",
        "K5QZ13OEpz2H",
        "lQ7QKXXCp7Bj",
        "448CDAPjqfQr",
        "KSlN3yHqYklG",
        "t6dVpIINYklI",
        "ijmpgYnKYklI",
        "-JiQyfWJYklI",
        "EM7whBJCYoAo",
        "fge-S5ZAYoAp",
        "85gYPyotYoAp",
        "RoGjAbkUYoAp",
        "4Of9eVA-YrdM",
        "iky9q4vBYrdO",
        "F6T5p64dYrdO",
        "y-Ehk30pYrdP",
        "bamQiAODYuh1",
        "QHF8YVU7Yuh3",
        "GwzvFGzlYuh3",
        "qYpmQ266Yuh3",
        "OH-pJp9IphqM",
        "bbFf2-_FphqN",
        "_ouA3fa0phqN",
        "Seke61FWphqN",
        "PIIx-8_IphqN",
        "t27r6nlMphqO",
        "r2jJGEOYphqO",
        "b0JNsNcRphqO",
        "BZR9WyysphqO",
        "jj7wYXLtphqO",
        "eZrbJ2SmphqO",
        "rFu4xreNphqO",
        "YJ55k-q6phqO",
        "gCFgpxoyphqP",
        "OVtJsKN_phqQ",
        "lssrdh5qphqQ",
        "U2RJ9gkRphqQ",
        "1M8mcRywphqQ",
        "tgIPom80phqQ",
        "JMzcOPDDphqR",
        "x-EpHcCOp1ci",
        "X_VqEhTip1ck",
        "8zGJKyg5p1ck",
        "PVzmfK_Ep1ck",
        "n3dbpmDWp1ck",
        "ylSl6qgtp1ck",
        "ZWILFDl5p1ck",
        "M7G43BXep1ck",
        "Ag9LCva-p1cl",
        "E6MkPsBcp1cl",
        "2cELzS2fp1cl",
        "3MPXvC8up1cl",
        "NC_X3p0fY2L0",
        "UV0SzAkaZNRQ",
        "YPEH6qLeZNRQ",
        "q29F0dvdveiT",
        "EXh0U9oCveiU",
        "22aHeOlLveiV",
        "JcMwzZxoAimU",
        "8G2x9gOozGDZ",
        "gCX9965dhzqZ",
        "gIfDvo9L0UH2"
      ]
    },
    "kernelspec": {
      "name": "python3",
      "display_name": "Python 3"
    },
    "language_info": {
      "name": "python"
    }
  },
  "cells": [
    {
      "cell_type": "markdown",
      "source": [
        "# **Project Name**    - AirBnb Bookings Analysis\n",
        "\n"
      ],
      "metadata": {
        "id": "vncDsAP0Gaoa"
      }
    },
    {
      "cell_type": "markdown",
      "source": [
        "##### **Project Type**    - EDA\n",
        "##### **Contribution**    - Individual\n",
        "\n",
        "\n"
      ],
      "metadata": {
        "id": "beRrZCGUAJYm"
      }
    },
    {
      "cell_type": "markdown",
      "source": [
        "# **Project Summary -**"
      ],
      "metadata": {
        "id": "FJNUwmbgGyua"
      }
    },
    {
      "cell_type": "markdown",
      "source": [
        "Since its inception in 2008, Airbnb has redefined the travel and hospitality industry by offering a unique and personalized way to find accommodations. The platform connects millions of guests and hosts worldwide, generating an immense amount of data. This data can provide actionable insights for improving customer experiences, guiding business strategies, and optimizing platform performance. With the growing reliance on data-driven decisions, it has become increasingly important to analyze Airbnb’s data to understand customer behavior, pricing trends, and other critical factors impacting the platform's success.\n",
        "\n",
        "This project focuses on conducting an Exploratory Data Analysis (EDA) of the Airbnb NYC 2019 dataset. The dataset contains 48,895 rows and 16 columns, offering a comprehensive snapshot of Airbnb listings in New York City. These columns include information about hosts, listing locations, room types, prices, availability, and customer reviews. The primary objective of this analysis is to extract meaningful patterns and insights that can help Airbnb’s stakeholders, including management, hosts, and customers, make well-informed decisions."
      ],
      "metadata": {
        "id": "F6v_1wHtG2nS"
      }
    },
    {
      "cell_type": "markdown",
      "source": [
        "# **GitHub Link -**"
      ],
      "metadata": {
        "id": "w6K7xa23Elo4"
      }
    },
    {
      "cell_type": "markdown",
      "source": [
        "Link - https://github.com/Chetna03/AirBnb-Bookings-Analysis-EDA"
      ],
      "metadata": {
        "id": "h1o69JH3Eqqn"
      }
    },
    {
      "cell_type": "markdown",
      "source": [
        "# **Problem Statement**\n"
      ],
      "metadata": {
        "id": "yQaldy8SH6Dl"
      }
    },
    {
      "cell_type": "markdown",
      "source": [
        "The goal of this analysis is to explore and understand the factors that affect the performance of Airbnb listings, including pricing, booking behavior, and customer ratings. By conducting a comprehensive exploratory data analysis on the Airbnb dataset, we aim to uncover insights related to the following:\n",
        "\n",
        "\n",
        "\n",
        "1.   Price Analysis: What factors (e.g., location, amenities, property type) influence the price of Airbnb listings?\n",
        "2.   Customer Ratings: How do factors such as cleanliness, host responsiveness, and listing features affect customer ratings and reviews?\n",
        "3.   Location and Popularity: How does the geographical location of listings impact their popularity, pricing, and booking frequency?\n",
        "4.   Host Characteristics: What are the characteristics of successful hosts, and how do their listings differ from less successful ones?\n",
        "5.   Booking Patterns: What patterns can be observed in booking frequency over time (e.g., seasonal trends, demand fluctuations)?\n",
        "\n",
        "By examining these questions, we aim to extract actionable insights that could help Airbnb hosts optimize their listings and improve customer satisfaction, while also providing recommendations for potential pricing strategies, property improvements, and marketing techniques.\n",
        "\n",
        "This analysis will leverage various data visualization and statistical techniques to uncover hidden patterns and relationships in the dataset."
      ],
      "metadata": {
        "id": "DpeJGUA3kjGy"
      }
    },
    {
      "cell_type": "markdown",
      "source": [
        "#### **Define Your Business Objective?**"
      ],
      "metadata": {
        "id": "PH-0ReGfmX4f"
      }
    },
    {
      "cell_type": "markdown",
      "source": [
        "The primary objective of this exploratory data analysis is to provide actionable insights that help Airbnb hosts, property managers, and the platform itself optimize their business performance. Specifically, the analysis aims to:\n",
        "\n",
        "\n",
        "1.   Maximize Revenue: Identify the key factors that influence pricing, and develop strategies to help hosts optimize their pricing models based on property type, location, and market demand.\n",
        "2.   Improve Guest Experience: Analyze customer ratings and reviews to identify areas of improvement for hosts, such as cleanliness, communication, and amenities, to enhance guest satisfaction and improve ratings.\n",
        "3.   Increase Booking Rates: Understand seasonal trends and demand patterns to help hosts adjust their availability and pricing accordingly, leading to better booking rates.\n",
        "4.   Targeted Marketing: Identify trends and patterns in customer preferences, enabling hosts to create targeted marketing strategies that appeal to specific customer segments.\n",
        "5.   Optimize Listings: Uncover trends related to successful listings, allowing hosts to better tailor their offerings to attract guests and differentiate themselves in a competitive market.\n",
        "\n",
        "The overall aim is to help Airbnb hosts make data-driven decisions that lead to higher occupancy rates, improved customer satisfaction, and ultimately increased profitability, while also assisting the platform in refining its services and user experience."
      ],
      "metadata": {
        "id": "PhDvGCAqmjP1"
      }
    },
    {
      "cell_type": "markdown",
      "source": [
        "# **General Guidelines** : -  "
      ],
      "metadata": {
        "id": "mDgbUHAGgjLW"
      }
    },
    {
      "cell_type": "markdown",
      "source": [
        "1.   Well-structured, formatted, and commented code is required.\n",
        "2.   Exception Handling, Production Grade Code & Deployment Ready Code will be a plus. Those students will be awarded some additional credits.\n",
        "     \n",
        "     The additional credits will have advantages over other students during Star Student selection.\n",
        "       \n",
        "             [ Note: - Deployment Ready Code is defined as, the whole .ipynb notebook should be executable in one go\n",
        "                       without a single error logged. ]\n",
        "\n",
        "3.   Each and every logic should have proper comments.\n",
        "4. You may add as many number of charts you want. Make Sure for each and every chart the following format should be answered.\n",
        "        \n",
        "\n",
        "```\n",
        "# Chart visualization code\n",
        "```\n",
        "            \n",
        "\n",
        "*   Why did you pick the specific chart?\n",
        "*   What is/are the insight(s) found from the chart?\n",
        "* Will the gained insights help creating a positive business impact?\n",
        "Are there any insights that lead to negative growth? Justify with specific reason.\n",
        "\n",
        "5. You have to create at least 20 logical & meaningful charts having important insights.\n",
        "\n",
        "\n",
        "[ Hints : - Do the Vizualization in  a structured way while following \"UBM\" Rule.\n",
        "\n",
        "U - Univariate Analysis,\n",
        "\n",
        "B - Bivariate Analysis (Numerical - Categorical, Numerical - Numerical, Categorical - Categorical)\n",
        "\n",
        "M - Multivariate Analysis\n",
        " ]\n",
        "\n",
        "\n",
        "\n"
      ],
      "metadata": {
        "id": "ZrxVaUj-hHfC"
      }
    },
    {
      "cell_type": "markdown",
      "source": [
        "# ***Let's Begin !***"
      ],
      "metadata": {
        "id": "O_i_v8NEhb9l"
      }
    },
    {
      "cell_type": "markdown",
      "source": [
        "## ***1. Know Your Data***"
      ],
      "metadata": {
        "id": "HhfV-JJviCcP"
      }
    },
    {
      "cell_type": "markdown",
      "source": [
        "### Import Libraries"
      ],
      "metadata": {
        "id": "Y3lxredqlCYt"
      }
    },
    {
      "cell_type": "code",
      "source": [
        "# Import Libraries\n",
        "import pandas as pd\n",
        "import numpy as np\n",
        "import seaborn as sns\n",
        "import matplotlib.pyplot as plt"
      ],
      "metadata": {
        "id": "M8Vqi-pPk-HR"
      },
      "execution_count": null,
      "outputs": []
    },
    {
      "cell_type": "markdown",
      "source": [
        "### Dataset Loading"
      ],
      "metadata": {
        "id": "3RnN4peoiCZX"
      }
    },
    {
      "cell_type": "code",
      "source": [
        "# Load Dataset\n",
        "df = pd.read_csv('https://raw.githubusercontent.com/Chetna03/AirBnb-Bookings-Analysis-EDA/main/Airbnb%20NYC%202019.csv')"
      ],
      "metadata": {
        "id": "4CkvbW_SlZ_R"
      },
      "execution_count": null,
      "outputs": []
    },
    {
      "cell_type": "markdown",
      "source": [
        "### Dataset First View"
      ],
      "metadata": {
        "id": "x71ZqKXriCWQ"
      }
    },
    {
      "cell_type": "code",
      "source": [
        "# Dataset First Look\n",
        "df.head()"
      ],
      "metadata": {
        "id": "LWNFOSvLl09H"
      },
      "execution_count": null,
      "outputs": []
    },
    {
      "cell_type": "markdown",
      "source": [
        "### Dataset Rows & Columns count"
      ],
      "metadata": {
        "id": "7hBIi_osiCS2"
      }
    },
    {
      "cell_type": "code",
      "source": [
        "# Dataset Rows & Columns count\n",
        "df.shape"
      ],
      "metadata": {
        "id": "Kllu7SJgmLij"
      },
      "execution_count": null,
      "outputs": []
    },
    {
      "cell_type": "markdown",
      "source": [
        "### Dataset Information"
      ],
      "metadata": {
        "id": "JlHwYmJAmNHm"
      }
    },
    {
      "cell_type": "code",
      "source": [
        "# Dataset Info\n",
        "df.info()"
      ],
      "metadata": {
        "id": "e9hRXRi6meOf"
      },
      "execution_count": null,
      "outputs": []
    },
    {
      "cell_type": "markdown",
      "source": [
        "#### Duplicate Values"
      ],
      "metadata": {
        "id": "35m5QtbWiB9F"
      }
    },
    {
      "cell_type": "code",
      "source": [
        "# Dataset Duplicate Value Count\n",
        "df.duplicated().sum()"
      ],
      "metadata": {
        "id": "CyL38a5f8ga8"
      },
      "execution_count": null,
      "outputs": []
    },
    {
      "cell_type": "code",
      "source": [
        "# Check for duplicate values on the id\n",
        "df[df.duplicated(subset=[\"id\"])]"
      ],
      "metadata": {
        "id": "zcjuZ6MYIloy"
      },
      "execution_count": null,
      "outputs": []
    },
    {
      "cell_type": "code",
      "source": [
        "# Check for duplicate values on the name\n",
        "df[df.duplicated(subset=[\"name\"])]"
      ],
      "metadata": {
        "id": "1sLdpKYkmox0"
      },
      "execution_count": null,
      "outputs": []
    },
    {
      "cell_type": "code",
      "source": [
        "# Check for the differences in the duplicated name values\n",
        "df[df[\"name\"] == \"Loft Suite @ The Box House Hotel\"]"
      ],
      "metadata": {
        "id": "YoGck7fRBDE_"
      },
      "execution_count": null,
      "outputs": []
    },
    {
      "cell_type": "markdown",
      "source": [
        "#### Missing Values/Null Values"
      ],
      "metadata": {
        "id": "PoPl-ycgm1ru"
      }
    },
    {
      "cell_type": "code",
      "source": [
        "# Missing Values/Null Values Count\n",
        "df.isnull().sum()"
      ],
      "metadata": {
        "id": "GgHWkxvamxVg"
      },
      "execution_count": null,
      "outputs": []
    },
    {
      "cell_type": "code",
      "source": [
        "# Visualizing the missing values with a bar chart\n",
        "\n",
        "missing_values = df.isnull().sum()\n",
        "missing_values = missing_values[missing_values > 0]\n",
        "\n",
        "plt.figure(figsize=(10, 6))\n",
        "missing_values.plot(kind='bar', color='skyblue')\n",
        "plt.title(\"Missing Values Count by Column\", fontsize=16)\n",
        "plt.xlabel(\"Columns\", fontsize=12)\n",
        "plt.ylabel(\"Number of Missing Values\", fontsize=12)\n",
        "plt.xticks(rotation=45, fontsize=10)\n",
        "plt.grid(axis='y', linestyle='--', alpha=0.7)\n",
        "plt.show()"
      ],
      "metadata": {
        "id": "odF9UJTirOah"
      },
      "execution_count": null,
      "outputs": []
    },
    {
      "cell_type": "markdown",
      "source": [
        "### What did you know about your dataset?"
      ],
      "metadata": {
        "id": "H0kj-8xxnORC"
      }
    },
    {
      "cell_type": "markdown",
      "source": [
        "The dataset contains details about Airbnb listings in NYC for 2019, including features like neighborhood, room type, price, and availability.\n",
        "\n",
        "**Dataset Information:**\n",
        "\n",
        "The dataset contains 16 columns with different data types: integers, floats, and strings.\n",
        "\n",
        "**Duplicate Values:**\n",
        "\n",
        "There are 0 duplicate rows in the dataset.\n",
        "\n",
        "**Missing/Null Values:**\n",
        "\n",
        "Key columns with missing values:\n",
        "\n",
        "name- 16 missing entries\n",
        "\n",
        "host_name- 21 missing entries\n",
        "\n",
        "last_review & reviews_per_month- Both have 10,052 missing entries\n"
      ],
      "metadata": {
        "id": "gfoNAAC-nUe_"
      }
    },
    {
      "cell_type": "markdown",
      "source": [
        "## ***2. Understanding Your Variables***"
      ],
      "metadata": {
        "id": "nA9Y7ga8ng1Z"
      }
    },
    {
      "cell_type": "code",
      "source": [
        "# Dataset Columns\n",
        "df.columns"
      ],
      "metadata": {
        "id": "j7xfkqrt5Ag5"
      },
      "execution_count": null,
      "outputs": []
    },
    {
      "cell_type": "code",
      "source": [
        "# Dataset Describe\n",
        "df.describe()"
      ],
      "metadata": {
        "id": "DnOaZdaE5Q5t"
      },
      "execution_count": null,
      "outputs": []
    },
    {
      "cell_type": "code",
      "source": [
        "df[df['price'] == 0]"
      ],
      "metadata": {
        "id": "B2oC3O3HSnjZ"
      },
      "execution_count": null,
      "outputs": []
    },
    {
      "cell_type": "code",
      "source": [
        "df[df['minimum_nights'] > 365]"
      ],
      "metadata": {
        "id": "OwnxRuZXEduP"
      },
      "execution_count": null,
      "outputs": []
    },
    {
      "cell_type": "markdown",
      "source": [
        "### Variables Description"
      ],
      "metadata": {
        "id": "PBTbrJXOngz2"
      }
    },
    {
      "cell_type": "markdown",
      "source": [
        "*  id - Unique ID\n",
        "*  name - Name of the listing\n",
        "*  host_id - Unique host_id\n",
        "*  host_name - Name of the host\n",
        "*  neighbourhood_group - location\n",
        "*  neighborhood - area\n",
        "*  latitude - Latitude range\n",
        "*  longitude - Longitude range\n",
        "*  room_type - Type of listing\n",
        "*  price - Price of listing\n",
        "*  minimum_nights - Minimum nights to be paid for\n",
        "*  Number_of reviews - Number of reviews\n",
        "*  last_review - Content of the last review\n",
        "*  reviews_per_month - Number of checks per month\n",
        "*  calculated_host_listing_count - Total count\n",
        "*  availability_365 - Availability around the year\n"
      ],
      "metadata": {
        "id": "aJV4KIxSnxay"
      }
    },
    {
      "cell_type": "markdown",
      "source": [
        "### Check Unique Values for each variable."
      ],
      "metadata": {
        "id": "u3PMJOP6ngxN"
      }
    },
    {
      "cell_type": "code",
      "source": [
        "# Check Unique Values for each variable.\n",
        "df.nunique().to_frame(\"Unique Values\")"
      ],
      "metadata": {
        "id": "zms12Yq5n-jE"
      },
      "execution_count": null,
      "outputs": []
    },
    {
      "cell_type": "markdown",
      "source": [
        "## 3. ***Data Wrangling***"
      ],
      "metadata": {
        "id": "dauF4eBmngu3"
      }
    },
    {
      "cell_type": "markdown",
      "source": [
        "### Data Wrangling Code"
      ],
      "metadata": {
        "id": "bKJF3rekwFvQ"
      }
    },
    {
      "cell_type": "code",
      "source": [
        "# Changing data types\n",
        "df['last_review'] = pd.to_datetime(df['last_review'])\n",
        "df['neighbourhood_group'] = df['neighbourhood_group'].astype('category')\n",
        "df['neighbourhood'] = df['neighbourhood'].astype('category')\n",
        "df['room_type'] = df['room_type'].astype('category')"
      ],
      "metadata": {
        "id": "kg_HnXaqCAIe"
      },
      "execution_count": null,
      "outputs": []
    },
    {
      "cell_type": "code",
      "source": [
        "# Handling missing values\n",
        "df['name'] = df['name'].fillna('Unknown')\n",
        "df['host_name'] = df['host_name'].fillna('Unknown')\n",
        "df['reviews_per_month'] = df['reviews_per_month'].fillna(0)\n",
        "df['last_review'] = df['last_review'].fillna('2000-01-01')"
      ],
      "metadata": {
        "id": "wk-9a2fpoLcV"
      },
      "execution_count": null,
      "outputs": []
    },
    {
      "cell_type": "code",
      "source": [
        "# Remove unimportant columns\n",
        "# df.drop(columns=['id','host_id'], inplace=True)"
      ],
      "metadata": {
        "id": "vQ0E_FZt9Cfw"
      },
      "execution_count": null,
      "outputs": []
    },
    {
      "cell_type": "code",
      "source": [
        "# New Columns\n",
        "df['never_reviewed'] = df['number_of_reviews'] == 0\n",
        "\n",
        "price_bins = [0, 50, 150, 300, 10000]\n",
        "price_labels = ['Budget', 'Mid-range', 'Premium', 'Luxury']\n",
        "df['price_category'] = pd.cut(df['price'],bins=price_bins,labels=price_labels)\n",
        "\n",
        "stay_bins = [0, 3, 7, 30, 365]\n",
        "stay_labels = ['Short Stay','Week Stay','Month Stay','Extended Stay']\n",
        "df['stay_category'] = pd.cut(df['minimum_nights'],bins=stay_bins,labels=stay_labels)\n",
        "\n",
        "df['estimated_revenue_per_year'] = df['price']*df['availability_365']"
      ],
      "metadata": {
        "id": "xuh9QmRxFXOz"
      },
      "execution_count": null,
      "outputs": []
    },
    {
      "cell_type": "code",
      "source": [
        "# Removing Outliers\n",
        "df = df[df['price'] > 0]\n",
        "df = df[df['minimum_nights'] <= 365]"
      ],
      "metadata": {
        "id": "swvoviAoFZx2"
      },
      "execution_count": null,
      "outputs": []
    },
    {
      "cell_type": "code",
      "source": [
        "df['log_price'] = np.log1p(df['price'])"
      ],
      "metadata": {
        "id": "Cngk32VkECNp"
      },
      "execution_count": null,
      "outputs": []
    },
    {
      "cell_type": "code",
      "source": [
        "df = df.rename(columns={\n",
        "    'id': 'listing_id',                   # Unique identifier for each listing\n",
        "    'name': 'listing_name',               # Name/title of the Airbnb listing\n",
        "    'host_id': 'host_unique_id',          # Unique ID of the host\n",
        "    'host_name': 'host_full_name',        # Full name of the host\n",
        "    'neighbourhood_group': 'city_area',   # Broad area in the city\n",
        "    'neighbourhood': 'locality',          # Specific locality of the listing\n",
        "    'latitude': 'lat',                    # Latitude of the listing\n",
        "    'longitude': 'lon',                   # Longitude of the listing\n",
        "    'room_type': 'accommodation_type',    # Type of room (Entire home, Private room, etc.)\n",
        "    'price': 'nightly_rate',              # Price per night for the listing\n",
        "    'minimum_nights': 'min_stay',         # Minimum stay required\n",
        "    'number_of_reviews': 'total_reviews', # Total number of reviews received\n",
        "    'last_review': 'last_review_date',    # Date of the last review\n",
        "    'reviews_per_month': 'avg_reviews_per_month',  # Average reviews per month\n",
        "    'calculated_host_listings_count': 'total_listings_by_host', # Number of listings by the host\n",
        "    'availability_365': 'availability_days_per_year', # Number of days available in a year\n",
        "    'last_review_year': 'review_year'\n",
        "})\n",
        "\n"
      ],
      "metadata": {
        "id": "dL0NKwtdJuXV"
      },
      "execution_count": null,
      "outputs": []
    },
    {
      "cell_type": "code",
      "source": [
        "pd.set_option('display.max_columns', None)\n",
        "df.head(30)"
      ],
      "metadata": {
        "id": "lhDX9gl-GdiO"
      },
      "execution_count": null,
      "outputs": []
    },
    {
      "cell_type": "code",
      "source": [
        "df.to_csv('final_airbnb_data.csv',)"
      ],
      "metadata": {
        "id": "FEMF_IPwK-RX"
      },
      "execution_count": null,
      "outputs": []
    },
    {
      "cell_type": "markdown",
      "source": [
        "### What all manipulations have you done and insights you found?"
      ],
      "metadata": {
        "id": "MSa1f5Uengrz"
      }
    },
    {
      "cell_type": "markdown",
      "source": [
        "Answer Here."
      ],
      "metadata": {
        "id": "LbyXE7I1olp8"
      }
    },
    {
      "cell_type": "markdown",
      "source": [
        "## ***4. Data Vizualization, Storytelling & Experimenting with charts : Understand the relationships between variables***"
      ],
      "metadata": {
        "id": "GF8Ens_Soomf"
      }
    },
    {
      "cell_type": "markdown",
      "source": [
        "#### Chart - 1 : Distribution of Airbnb listings across different Stay Categories (Short, Week, Month, Extended)"
      ],
      "metadata": {
        "id": "0wOQAZs5pc--"
      }
    },
    {
      "cell_type": "code",
      "source": [
        "# Set Seaborn style\n",
        "sns.set_style(\"whitegrid\")\n",
        "\n",
        "# Create a figure with a specified size\n",
        "plt.figure(figsize=(8, 5))\n",
        "\n",
        "# Create a count plot for 'stay_category' with hue for differentiation\n",
        "ax = sns.countplot(\n",
        "    x=\"stay_category\", # We want to analyse 'stay_category' column\n",
        "    data=df, # Dataframe name\n",
        "    hue=\"stay_category\",  # Different colours for each 'stay_category'\n",
        "    palette=plt.cm.Set2.colors,  # Set color palette\n",
        "    linewidth=2,  # Add border around bars\n",
        "    width=0.5  # Adjust bar width\n",
        ")\n",
        "\n",
        "# Loop through each bar (patch) in the count plot\n",
        "for p in ax.patches:\n",
        "    ax.annotate(\n",
        "        f'{int(p.get_height())}',  # Convert the bar height (count) to an integer and format it as text\n",
        "        (p.get_x() + p.get_width() / 2, p.get_height()),  # Position the label at the center-top of each bar\n",
        "        ha='center',  # Horizontally center the text\n",
        "        va='bottom',  # Align text just above the bar\n",
        "        fontsize=10  # Set font size\n",
        "    )\n",
        "\n",
        "\n",
        "# Set labels and title\n",
        "plt.xlabel(\"Stay Category\", fontsize=12, labelpad=12)\n",
        "plt.ylabel(\"Number of Listings\", fontsize=12, labelpad=12)\n",
        "plt.title(\"Distribution of Stay Categories in Airbnb Listings\", fontsize=14, pad=15)\n",
        "\n",
        "# Show the plot\n",
        "plt.show()\n"
      ],
      "metadata": {
        "id": "7v_ESjsspbW7"
      },
      "execution_count": null,
      "outputs": []
    },
    {
      "cell_type": "markdown",
      "source": [
        "##### 1. Why did you pick the specific chart?"
      ],
      "metadata": {
        "id": "K5QZ13OEpz2H"
      }
    },
    {
      "cell_type": "markdown",
      "source": [
        "* It is best to represent categorical data, showing the number of listings in each stay_category.\n",
        "* It provides a quick and clear comparison of different stay types."
      ],
      "metadata": {
        "id": "XESiWehPqBRc"
      }
    },
    {
      "cell_type": "markdown",
      "source": [
        "##### 2. What is/are the insight(s) found from the chart?"
      ],
      "metadata": {
        "id": "lQ7QKXXCp7Bj"
      }
    },
    {
      "cell_type": "markdown",
      "source": [
        "*   The majority of listings cater to short-term travelers, which only require the minimum booking of 1-3 days, mainly targeting the tourists,  business travellers, etc.\n",
        "*   Around 15,000 listings require either a week or month of minimum booking, making it suitable for work trips, short relocations, or staycations.\n",
        "* Only a small number of listings have a minimum booking requirement of more than 30 days, making is least preferable choice.\n",
        "\n",
        "\n",
        "\n",
        "\n"
      ],
      "metadata": {
        "id": "C_j1G7yiqdRP"
      }
    },
    {
      "cell_type": "markdown",
      "source": [
        "##### 3. Will the gained insights help creating a positive business impact?\n",
        "Are there any insights that lead to negative growth? Justify with specific reason."
      ],
      "metadata": {
        "id": "448CDAPjqfQr"
      }
    },
    {
      "cell_type": "markdown",
      "source": [
        "✅ Positive Business Impact:\n",
        "\n",
        "* Current or new hosts can focus on short stay bookings since they dominate the market.\n",
        "* Offering special pricing or discounts for weekly or monthly stays might improve occupancy rates.\n",
        "* If market demand shifts toward long-term stays, expanding extended stay options could be profitable, as it brings higher, more stable earnings with reduced overhead costs.\n",
        "\n",
        "\n",
        "⚠️ Potential Negative Growth:\n",
        "\n",
        "* High competition in short stays could lead to price wars and lower profits.\n",
        "* If demand for long stays increases, lack of listings in extended stays might be a missed business opportunity."
      ],
      "metadata": {
        "id": "3cspy4FjqxJW"
      }
    },
    {
      "cell_type": "markdown",
      "source": [
        "#### Chart - 2 : Distribution of Airbnb listings across different Price Categories (Budget, Mid-range, Premium, Luxury)"
      ],
      "metadata": {
        "id": "4Of9eVA-YrdM"
      }
    },
    {
      "cell_type": "code",
      "source": [
        "import matplotlib.pyplot as plt\n",
        "\n",
        "# Count occurrences of each price category\n",
        "price_category_counts = df['price_category'].value_counts()\n",
        "\n",
        "# Set figure size\n",
        "plt.figure(figsize=(8, 8))\n",
        "\n",
        "# Create Pie Chart\n",
        "plt.pie(price_category_counts,\n",
        "        labels=[f\"{label} ({count})\" for label, count in zip(price_category_counts.index, price_category_counts)],  # Show category name with count\n",
        "        autopct='%1.1f%%',  # Display percentage values\n",
        "        startangle=120,  # Rotate the chart for better visibility\n",
        "        colors=plt.cm.Set2.colors,  # Use a predefined color palette\n",
        "        wedgeprops={'edgecolor': 'black'})  # Add black edges for better separation\n",
        "\n",
        "# Add Title\n",
        "plt.title('Distribution of Price Categories', fontsize=14, pad=15)  # Set title with padding\n",
        "\n",
        "# Display the Pie Chart\n",
        "plt.show()\n"
      ],
      "metadata": {
        "id": "irlUoxc8YrdO"
      },
      "execution_count": null,
      "outputs": []
    },
    {
      "cell_type": "markdown",
      "source": [
        "##### 1. Why did you pick the specific chart?"
      ],
      "metadata": {
        "id": "iky9q4vBYrdO"
      }
    },
    {
      "cell_type": "markdown",
      "source": [
        "* A pie chart is ideal for visualizing the proportion of each price category in the dataset.\n",
        "* It clearly shows the market share of Budget, Mid-range, Premium, and Luxury listings."
      ],
      "metadata": {
        "id": "aJRCwT6DYrdO"
      }
    },
    {
      "cell_type": "markdown",
      "source": [
        "##### 2. What is/are the insight(s) found from the chart?"
      ],
      "metadata": {
        "id": "F6T5p64dYrdO"
      }
    },
    {
      "cell_type": "markdown",
      "source": [
        "*   Most listings belong to the mid-range category that falls under the \\$50 to $150 price range, meaning most travelers prefer affordable stays as well as they value quality too.\n",
        "*   Luxury listings are significantly fewer, indicating a smaller premium  market."
      ],
      "metadata": {
        "id": "Xx8WAJvtYrdO"
      }
    },
    {
      "cell_type": "markdown",
      "source": [
        "##### 3. Will the gained insights help creating a positive business impact?\n",
        "Are there any insights that lead to negative growth? Justify with specific reason."
      ],
      "metadata": {
        "id": "y-Ehk30pYrdP"
      }
    },
    {
      "cell_type": "markdown",
      "source": [
        "✅ Positive Business Impact:\n",
        "\n",
        "* Since most listings fall in these categories, Airbnb can offer discounts, promotions, and travel bundles to boost bookings.\n",
        "* The low number of luxury listings suggests a gap in the high-end market. Airbnb can encourage hosts to list premium properties and market them to business travelers and high-income tourists.\n",
        "\n",
        "\n",
        "⚠️ Potential Negative Growth:\n",
        "\n",
        "* A lack of luxury listings may push away high-spending travelers to competitors like premium hotels, limiting market reach.\n",
        "* If the price of listings stay dominated towards the lower side, it could affect Airbnb’s brand perception, making it seem like a low-cost platform instead of a diverse marketplace."
      ],
      "metadata": {
        "id": "jLNxxz7MYrdP"
      }
    },
    {
      "cell_type": "markdown",
      "source": [
        "#### Chart - 3 : Distribution of Airbnb Listings Across Different Accommodation Types (Entire Home, Private Room, Shared Room)"
      ],
      "metadata": {
        "id": "EM7whBJCYoAo"
      }
    },
    {
      "cell_type": "code",
      "source": [
        "import matplotlib.pyplot as plt  # Import Matplotlib for visualization\n",
        "\n",
        "# Count occurrences of each accommodation type\n",
        "accommodation_counts = df['accommodation_type'].value_counts().reset_index()\n",
        "accommodation_counts.columns = ['accommodation_type', 'count']  # Rename columns for clarity\n",
        "\n",
        "# Sort data in ascending order for better visualization\n",
        "# accommodation_counts = accommodation_counts.sort_values(by='count', ascending=True)\n",
        "\n",
        "# Create the figure\n",
        "plt.figure(figsize=(7, 4))\n",
        "\n",
        "# Plot horizontal dashed lines (Lollipop sticks)\n",
        "plt.hlines(\n",
        "    y=accommodation_counts['accommodation_type'],  # Y-axis values (accommodation types)\n",
        "    xmin=0,  # Start of the line at 0 on the x-axis\n",
        "    xmax=accommodation_counts['count'],  # End of the line at the count value\n",
        "    color='seagreen',  # Line color\n",
        "    linestyle='solid',  # Dashed line style\n",
        "    linewidth=3  # Line thickness\n",
        ")\n",
        "\n",
        "# Plot scatter points (Lollipop heads)\n",
        "plt.scatter(\n",
        "    accommodation_counts['count'],  # X-axis values (listing counts)\n",
        "    accommodation_counts['accommodation_type'],  # Y-axis values (accommodation types)\n",
        "    color='seagreen',  # Point color\n",
        "    s=60  # Size of the points\n",
        ")\n",
        "\n",
        "# Add count annotations next to points\n",
        "for i in range(len(accommodation_counts)):\n",
        "    plt.annotate(\n",
        "        f\"{accommodation_counts['count'].iloc[i]}\",  # Text: count value\n",
        "        (accommodation_counts['count'].iloc[i], accommodation_counts['accommodation_type'].iloc[i]),  # Position of annotation\n",
        "        textcoords=\"offset points\",  # Use offset points for better placement\n",
        "        xytext=(10, -3),  # Move text slightly (10 right, 3 down)\n",
        "        ha='left',  # Align text to the left\n",
        "        fontsize=10,  # Font size of annotation text\n",
        "        bbox=dict(facecolor='white', edgecolor='black', boxstyle='round,pad=0.3')  # Box styling for readability\n",
        "    )\n",
        "\n",
        "# Adjust axis limits for better spacing\n",
        "plt.ylim(-0.5, len(accommodation_counts) - 0.5)  # Adds space above and below y-axis labels\n",
        "plt.xlim(0, accommodation_counts['count'].max() * 1.3)  # Extends x-axis by 30% beyond max count\n",
        "\n",
        "# Labels and title\n",
        "plt.xlabel('Number of Listings', fontsize=12, labelpad=13)\n",
        "plt.ylabel('Accommodation Type', fontsize=12, labelpad=13)\n",
        "plt.title('Listings Count by Accommodation Type', fontsize=14, pad=15)\n",
        "\n",
        "# Show the plot\n",
        "plt.show()\n"
      ],
      "metadata": {
        "id": "t6GMdE67YoAp"
      },
      "execution_count": null,
      "outputs": []
    },
    {
      "cell_type": "markdown",
      "source": [
        "##### 1. Why did you pick the specific chart?"
      ],
      "metadata": {
        "id": "fge-S5ZAYoAp"
      }
    },
    {
      "cell_type": "markdown",
      "source": [
        "* The lollipop chart effectively shows the distribution of different accommodation types.\n",
        "* Compared to a bar chart, it provides a cleaner representation with minimal clutter, making it easier to compare categories."
      ],
      "metadata": {
        "id": "5dBItgRVYoAp"
      }
    },
    {
      "cell_type": "markdown",
      "source": [
        "##### 2. What is/are the insight(s) found from the chart?"
      ],
      "metadata": {
        "id": "85gYPyotYoAp"
      }
    },
    {
      "cell_type": "markdown",
      "source": [
        "* The most common accommodation types are \"Entire home/apt\" and \"Private room\", with more than 40,000 listings combined, making up around 98% of all listings, suggesting the preference for complete privacy among Airbnb users.\n",
        "* Shared rooms have minimal listings, indicating lower market demand."
      ],
      "metadata": {
        "id": "4jstXR6OYoAp"
      }
    },
    {
      "cell_type": "markdown",
      "source": [
        "##### 3. Will the gained insights help creating a positive business impact?\n",
        "Are there any insights that lead to negative growth? Justify with specific reason."
      ],
      "metadata": {
        "id": "5gkDdv-J4zf8"
      }
    },
    {
      "cell_type": "markdown",
      "source": [
        "✅ Positive Business Impact:\n",
        "\n",
        "* Since \"Entire home/apt\" and \"Private room\" make up 98% of the listings, focusing on these types ensures maximum market reach and revenue potential.\n",
        "* Offering discounts on shared rooms can test whether low listings are due to limited supply or genuinely low demand, helping identify untapped market potential.\n",
        "\n",
        "⚠️ Potential Negative Growth:\n",
        "\n",
        "* \"Entire home/apt\" dominance in the market creates excessive competition which could lower prices, reducing profitability for hosts in crowded markets.\n",
        "* With only 2% of listings being shared rooms, investing in this category has a high risk of low occupancy and low revenue, making it an unprofitable choice."
      ],
      "metadata": {
        "id": "wCOY-Rpe4zf9"
      }
    },
    {
      "cell_type": "markdown",
      "source": [
        "#### Chart - 4 : Distribution of Airbnb Listings Across Top 10 City-Locality Combinations"
      ],
      "metadata": {
        "id": "KSlN3yHqYklG"
      }
    },
    {
      "cell_type": "code",
      "source": [
        "# Combine 'city_area' and 'locality' into a single column for grouping\n",
        "df['city_locality'] = df['locality'].astype(str) + ', ' + df['city_area'].astype(str)\n",
        "\n",
        "# Group by 'city_locality' and count the number of listings\n",
        "city_locality_counts = df.groupby('city_locality').size().reset_index(name='Total Listings')\n",
        "\n",
        "# Sort the data in descending order based on the total listings\n",
        "city_locality_counts = city_locality_counts.sort_values(by='Total Listings', ascending=False)\n",
        "\n",
        "# Select the top 10 city-locality combinations\n",
        "city_locality_counts = city_locality_counts.head(10)\n",
        "\n",
        "# Set figure size\n",
        "plt.figure(figsize=(10, 6))\n",
        "\n",
        "# Create a horizontal bar plot\n",
        "ax = sns.barplot(\n",
        "    x='Total Listings',  # Set the x-axis to display the count of listings\n",
        "    y='city_locality',   # Set the y-axis to display the city-locality names\n",
        "    hue='city_locality',\n",
        "    data=city_locality_counts,  # Use the grouped DataFrame as the data source\n",
        "    palette=\"Greens_r\"  # Set palette for visual appeal\n",
        ")\n",
        "\n",
        "# Add labels to each bar to display the exact count\n",
        "for index, value in enumerate(city_locality_counts['Total Listings']):\n",
        "    ax.text(\n",
        "        value + 2,  # Position the text slightly to the right of the bar\n",
        "        index,       # Align with the corresponding bar on the y-axis\n",
        "        str(value),  # Convert count to string and display as text\n",
        "        va='center', # Vertically center the text on the bar\n",
        "        fontsize=10  # Set font size for readability\n",
        "    )\n",
        "\n",
        "# Set plot labels and title\n",
        "plt.xlabel('Total Listings')  # Label for x-axis\n",
        "plt.ylabel('City & Locality') # Label for y-axis\n",
        "plt.title('Top 10 City & Locality Listings') # Chart title\n",
        "\n",
        "# Show the plot\n",
        "plt.show()"
      ],
      "metadata": {
        "id": "AeEO8OZ7WIpn"
      },
      "execution_count": null,
      "outputs": []
    },
    {
      "cell_type": "markdown",
      "source": [
        "##### 1. Why did you pick the specific chart?"
      ],
      "metadata": {
        "id": "t6dVpIINYklI"
      }
    },
    {
      "cell_type": "markdown",
      "source": [
        "* A horizontal bar chart effectively displays categorical data.\n",
        "* The descending order of bars makes it easy to identify the top localities.\n",
        "* Long locality names fit better on the y-axis compared to a vertical bar chart."
      ],
      "metadata": {
        "id": "5aaW0BYyYklI"
      }
    },
    {
      "cell_type": "markdown",
      "source": [
        "##### 2. What is/are the insight(s) found from the chart?"
      ],
      "metadata": {
        "id": "ijmpgYnKYklI"
      }
    },
    {
      "cell_type": "markdown",
      "source": [
        "* Brooklyn and Manhattan dominate the top 10, indicating high Airbnb activity in these areas.\n",
        "* Williamsburg, Brooklyn (3,917 listings) has the highest number of Airbnb listings, followed by Bedford-Stuyvesant, Brooklyn (3,709 listings).\n",
        "* Among the top 10 areas, Brooklyn has only 4 localities but the highest number of listings within them, whereas Manhattan has more localities but relatively fewer listings per locality."
      ],
      "metadata": {
        "id": "PSx9atu2YklI"
      }
    },
    {
      "cell_type": "markdown",
      "source": [
        "##### 3. Will the gained insights help creating a positive business impact?\n",
        "Are there any insights that lead to negative growth? Justify with specific reason."
      ],
      "metadata": {
        "id": "-JiQyfWJYklI"
      }
    },
    {
      "cell_type": "markdown",
      "source": [
        "✅ Positive Business Impact:\n",
        "\n",
        "* Investors and property owners can focus on top-performing localities (Williamsburg, Bedford-Stuyvesant, Harlem, Bushwick) to maximize returns, as they have high listing concentrations and audience.\n",
        "* Since Manhattan has more localities but fewer listings in each, new hosts can choose less crowded areas to face less competition while still attracting tourists.\n",
        "\n",
        "⚠️ Potential Negative Growth:\n",
        "\n",
        "* Areas like Williamsburg and Bedford-Stuyvesant have a high number of listings, increasing competition and price pressure.\n",
        "* If all hosts focus on the same top listing areas, it would lower the likelihood of opening Airbnbs in new neighborhoods."
      ],
      "metadata": {
        "id": "BcBbebzrYklV"
      }
    },
    {
      "cell_type": "markdown",
      "source": [
        "#### Chart - 5"
      ],
      "metadata": {
        "id": "OH-pJp9IphqM"
      }
    },
    {
      "cell_type": "code",
      "source": [
        "plt.figure(figsize=(8, 5))\n",
        "sns.kdeplot(np.log1p(df['avg_reviews_per_month']), fill=True, color=\"orange\")\n",
        "ticks = [0,0.5, 1,1.5, 2,2.5, 3,3.5,4,4.5,5,5.5,6]  # Adjust based on your data\n",
        "tick_labels = [round(np.exp(t)-1, 1) for t in ticks]  # Convert log values back\n",
        "plt.xticks(ticks, tick_labels)\n",
        "y_ticks = np.linspace(0, plt.gca().get_ylim()[1], 15)  # Get y-axis limit and space ticks evenly\n",
        "y_labels = [round(y, 3) for y in y_ticks]\n",
        "plt.yticks(y_ticks, y_labels)\n",
        "plt.xlabel(\"Log of Average Reviews Per Month\")\n",
        "plt.ylabel(\"Density\")\n",
        "plt.title(\"KDE Plot (Log Scaled) of Average Reviews Per Month\")\n",
        "plt.show()"
      ],
      "metadata": {
        "id": "kuRf4wtuphqN"
      },
      "execution_count": null,
      "outputs": []
    },
    {
      "cell_type": "markdown",
      "source": [
        "##### 1. Why did you pick the specific chart?"
      ],
      "metadata": {
        "id": "bbFf2-_FphqN"
      }
    },
    {
      "cell_type": "markdown",
      "source": [
        "Answer Here."
      ],
      "metadata": {
        "id": "loh7H2nzphqN"
      }
    },
    {
      "cell_type": "markdown",
      "source": [
        "##### 2. What is/are the insight(s) found from the chart?"
      ],
      "metadata": {
        "id": "_ouA3fa0phqN"
      }
    },
    {
      "cell_type": "markdown",
      "source": [
        "Answer Here"
      ],
      "metadata": {
        "id": "VECbqPI7phqN"
      }
    },
    {
      "cell_type": "markdown",
      "source": [
        "##### 3. Will the gained insights help creating a positive business impact?\n",
        "Are there any insights that lead to negative growth? Justify with specific reason."
      ],
      "metadata": {
        "id": "Seke61FWphqN"
      }
    },
    {
      "cell_type": "markdown",
      "source": [
        "Answer Here"
      ],
      "metadata": {
        "id": "DW4_bGpfphqN"
      }
    },
    {
      "cell_type": "markdown",
      "source": [
        "#### Chart - 6"
      ],
      "metadata": {
        "id": "PIIx-8_IphqN"
      }
    },
    {
      "cell_type": "code",
      "source": [
        "# Count total listings per host\n",
        "host_counts = df['total_listings_by_host'].value_counts().sort_index()\n",
        "\n",
        "# Convert index to array (unique listing counts) and values to array (number of hosts)\n",
        "x_values = host_counts.index\n",
        "y_values = host_counts.values\n",
        "\n",
        "# Create line chart\n",
        "plt.figure(figsize=(10, 6))\n",
        "plt.plot(x_values, y_values, marker='o', linestyle='-', color='teal')\n",
        "\n",
        "# Log scale for better distribution\n",
        "plt.xscale('log')\n",
        "plt.yscale('log')\n",
        "\n",
        "# Set actual values as ticks\n",
        "x_ticks = [1, 2, 5, 10, 20, 50, 100, 200, 300, 500]\n",
        "y_ticks = np.logspace(0, np.log10(40000), 10, dtype=int)\n",
        "\n",
        "plt.xticks(x_ticks, x_ticks)\n",
        "plt.yticks(y_ticks, y_ticks)\n",
        "\n",
        "# Labels & title\n",
        "plt.xlabel('Total Listings per Host (Log Scale)')\n",
        "plt.ylabel('Number of Hosts (Log Scale)')\n",
        "plt.title('Line Chart: Distribution of Hosts by Total Listings')\n",
        "\n",
        "# Show grid\n",
        "plt.grid(True, which=\"both\", linestyle=\"--\", linewidth=0.5)\n",
        "\n",
        "# Show plot\n",
        "plt.show()\n",
        "\n",
        "\n",
        "\n"
      ],
      "metadata": {
        "id": "lqAIGUfyphqO"
      },
      "execution_count": null,
      "outputs": []
    },
    {
      "cell_type": "markdown",
      "source": [
        "##### 1. Why did you pick the specific chart?"
      ],
      "metadata": {
        "id": "t27r6nlMphqO"
      }
    },
    {
      "cell_type": "markdown",
      "source": [
        "Answer Here."
      ],
      "metadata": {
        "id": "iv6ro40sphqO"
      }
    },
    {
      "cell_type": "markdown",
      "source": [
        "##### 2. What is/are the insight(s) found from the chart?"
      ],
      "metadata": {
        "id": "r2jJGEOYphqO"
      }
    },
    {
      "cell_type": "markdown",
      "source": [
        "Answer Here"
      ],
      "metadata": {
        "id": "Po6ZPi4hphqO"
      }
    },
    {
      "cell_type": "markdown",
      "source": [
        "##### 3. Will the gained insights help creating a positive business impact?\n",
        "Are there any insights that lead to negative growth? Justify with specific reason."
      ],
      "metadata": {
        "id": "b0JNsNcRphqO"
      }
    },
    {
      "cell_type": "markdown",
      "source": [
        "Answer Here"
      ],
      "metadata": {
        "id": "xvSq8iUTphqO"
      }
    },
    {
      "cell_type": "markdown",
      "source": [
        "#### Chart - 7"
      ],
      "metadata": {
        "id": "bamQiAODYuh1"
      }
    },
    {
      "cell_type": "code",
      "source": [
        "# Create Histogram\n",
        "plt.figure(figsize=(8, 5))\n",
        "plt.hist(df['availability_days_per_year'], bins=52, color='skyblue', edgecolor='black', alpha=0.7)\n",
        "\n",
        "# Labels and Title\n",
        "plt.xlabel('Availability Days Per Year')\n",
        "plt.ylabel('Number of Listings')\n",
        "plt.title('Histogram of Availability Days Per Year')\n",
        "\n",
        "# Show Chart\n",
        "plt.show()\n"
      ],
      "metadata": {
        "id": "TIJwrbroYuh3"
      },
      "execution_count": null,
      "outputs": []
    },
    {
      "cell_type": "markdown",
      "source": [
        "##### 1. Why did you pick the specific chart?"
      ],
      "metadata": {
        "id": "QHF8YVU7Yuh3"
      }
    },
    {
      "cell_type": "markdown",
      "source": [
        "Answer Here."
      ],
      "metadata": {
        "id": "dcxuIMRPYuh3"
      }
    },
    {
      "cell_type": "markdown",
      "source": [
        "##### 2. What is/are the insight(s) found from the chart?"
      ],
      "metadata": {
        "id": "GwzvFGzlYuh3"
      }
    },
    {
      "cell_type": "markdown",
      "source": [
        "Answer Here"
      ],
      "metadata": {
        "id": "uyqkiB8YYuh3"
      }
    },
    {
      "cell_type": "markdown",
      "source": [
        "##### 3. Will the gained insights help creating a positive business impact?\n",
        "Are there any insights that lead to negative growth? Justify with specific reason."
      ],
      "metadata": {
        "id": "qYpmQ266Yuh3"
      }
    },
    {
      "cell_type": "markdown",
      "source": [
        "Answer Here"
      ],
      "metadata": {
        "id": "_WtzZ_hCYuh4"
      }
    },
    {
      "cell_type": "markdown",
      "source": [
        "#### Chart - 8"
      ],
      "metadata": {
        "id": "BZR9WyysphqO"
      }
    },
    {
      "cell_type": "code",
      "source": [
        "plt.figure(figsize=(12, 5))\n",
        "sns.boxplot(x=df['estimated_revenue_per_year'], color='skyblue')\n",
        "\n",
        "# Log scale for better visualization\n",
        "plt.xscale('log')\n",
        "\n",
        "# Set xticks to actual numbers (adjust based on data range)\n",
        "tick_values = numbers = np.logspace(0, np.log10(3.649635e+06), 20, dtype=int)\n",
        "plt.xticks(tick_values, [f'{x:,}' for x in tick_values],rotation=90)  # Format with commas\n",
        "\n",
        "# Set y ticks if needed (since it's a boxplot, y is categorical or single level)\n",
        "plt.yticks([])  # No y-ticks for boxplot\n",
        "\n",
        "plt.xlabel('Estimated Revenue Per Year (Log Scale)')\n",
        "plt.title('Boxplot of Estimated Revenue Per Year')\n",
        "\n",
        "plt.show()\n"
      ],
      "metadata": {
        "id": "TdPTWpAVphqO"
      },
      "execution_count": null,
      "outputs": []
    },
    {
      "cell_type": "markdown",
      "source": [
        "##### 1. Why did you pick the specific chart?"
      ],
      "metadata": {
        "id": "jj7wYXLtphqO"
      }
    },
    {
      "cell_type": "markdown",
      "source": [
        "Answer Here."
      ],
      "metadata": {
        "id": "Ob8u6rCTphqO"
      }
    },
    {
      "cell_type": "markdown",
      "source": [
        "##### 2. What is/are the insight(s) found from the chart?"
      ],
      "metadata": {
        "id": "eZrbJ2SmphqO"
      }
    },
    {
      "cell_type": "markdown",
      "source": [
        "Typical Airbnb Revenue (Median): A typical listing earns ₹4,293 per year.\n",
        "Lower 25% of Listings (Q1): Many listings have very low or ₹0 revenue, likely due to inactive or rarely booked listings.\n",
        "Upper 25% of Listings (Q3): High-performing listings earn at least ₹22,515 per year.\n",
        "Outliers & High Earners: There are no extreme outliers based on the log-transformed data.\n",
        "Revenue Range: Most active listings earn between ₹4,293 and ₹22,515 per year, but some exceptional properties earn significantly more."
      ],
      "metadata": {
        "id": "mZtgC_hjphqO"
      }
    },
    {
      "cell_type": "markdown",
      "source": [
        "##### 3. Will the gained insights help creating a positive business impact?\n",
        "Are there any insights that lead to negative growth? Justify with specific reason."
      ],
      "metadata": {
        "id": "rFu4xreNphqO"
      }
    },
    {
      "cell_type": "markdown",
      "source": [
        "Answer Here"
      ],
      "metadata": {
        "id": "ey_0qi68phqO"
      }
    },
    {
      "cell_type": "markdown",
      "source": [
        "#### Chart - 9"
      ],
      "metadata": {
        "id": "YJ55k-q6phqO"
      }
    },
    {
      "cell_type": "code",
      "source": [
        "# Chart - 9 visualization code"
      ],
      "metadata": {
        "id": "B2aS4O1ophqO"
      },
      "execution_count": null,
      "outputs": []
    },
    {
      "cell_type": "markdown",
      "source": [
        "##### 1. Why did you pick the specific chart?"
      ],
      "metadata": {
        "id": "gCFgpxoyphqP"
      }
    },
    {
      "cell_type": "markdown",
      "source": [
        "Answer Here."
      ],
      "metadata": {
        "id": "TVxDimi2phqP"
      }
    },
    {
      "cell_type": "markdown",
      "source": [
        "##### 2. What is/are the insight(s) found from the chart?"
      ],
      "metadata": {
        "id": "OVtJsKN_phqQ"
      }
    },
    {
      "cell_type": "markdown",
      "source": [
        "Answer Here"
      ],
      "metadata": {
        "id": "ngGi97qjphqQ"
      }
    },
    {
      "cell_type": "markdown",
      "source": [
        "##### 3. Will the gained insights help creating a positive business impact?\n",
        "Are there any insights that lead to negative growth? Justify with specific reason."
      ],
      "metadata": {
        "id": "lssrdh5qphqQ"
      }
    },
    {
      "cell_type": "markdown",
      "source": [
        "Answer Here"
      ],
      "metadata": {
        "id": "tBpY5ekJphqQ"
      }
    },
    {
      "cell_type": "markdown",
      "source": [
        "#### Chart - 10"
      ],
      "metadata": {
        "id": "U2RJ9gkRphqQ"
      }
    },
    {
      "cell_type": "code",
      "source": [
        "# Chart - 10 visualization code"
      ],
      "metadata": {
        "id": "GM7a4YP4phqQ"
      },
      "execution_count": null,
      "outputs": []
    },
    {
      "cell_type": "markdown",
      "source": [
        "##### 1. Why did you pick the specific chart?"
      ],
      "metadata": {
        "id": "1M8mcRywphqQ"
      }
    },
    {
      "cell_type": "markdown",
      "source": [
        "Answer Here."
      ],
      "metadata": {
        "id": "8agQvks0phqQ"
      }
    },
    {
      "cell_type": "markdown",
      "source": [
        "##### 2. What is/are the insight(s) found from the chart?"
      ],
      "metadata": {
        "id": "tgIPom80phqQ"
      }
    },
    {
      "cell_type": "markdown",
      "source": [
        "Answer Here"
      ],
      "metadata": {
        "id": "Qp13pnNzphqQ"
      }
    },
    {
      "cell_type": "markdown",
      "source": [
        "##### 3. Will the gained insights help creating a positive business impact?\n",
        "Are there any insights that lead to negative growth? Justify with specific reason."
      ],
      "metadata": {
        "id": "JMzcOPDDphqR"
      }
    },
    {
      "cell_type": "markdown",
      "source": [
        "Answer Here"
      ],
      "metadata": {
        "id": "R4Ka1PC2phqR"
      }
    },
    {
      "cell_type": "markdown",
      "source": [
        "#### Chart - 11"
      ],
      "metadata": {
        "id": "x-EpHcCOp1ci"
      }
    },
    {
      "cell_type": "code",
      "source": [
        "# Chart - 11 visualization code"
      ],
      "metadata": {
        "id": "mAQTIvtqp1cj"
      },
      "execution_count": null,
      "outputs": []
    },
    {
      "cell_type": "markdown",
      "source": [
        "##### 1. Why did you pick the specific chart?"
      ],
      "metadata": {
        "id": "X_VqEhTip1ck"
      }
    },
    {
      "cell_type": "markdown",
      "source": [
        "Answer Here."
      ],
      "metadata": {
        "id": "-vsMzt_np1ck"
      }
    },
    {
      "cell_type": "markdown",
      "source": [
        "##### 2. What is/are the insight(s) found from the chart?"
      ],
      "metadata": {
        "id": "8zGJKyg5p1ck"
      }
    },
    {
      "cell_type": "markdown",
      "source": [
        "Answer Here"
      ],
      "metadata": {
        "id": "ZYdMsrqVp1ck"
      }
    },
    {
      "cell_type": "markdown",
      "source": [
        "##### 3. Will the gained insights help creating a positive business impact?\n",
        "Are there any insights that lead to negative growth? Justify with specific reason."
      ],
      "metadata": {
        "id": "PVzmfK_Ep1ck"
      }
    },
    {
      "cell_type": "markdown",
      "source": [
        "Answer Here"
      ],
      "metadata": {
        "id": "druuKYZpp1ck"
      }
    },
    {
      "cell_type": "markdown",
      "source": [
        "#### Chart - 12"
      ],
      "metadata": {
        "id": "n3dbpmDWp1ck"
      }
    },
    {
      "cell_type": "code",
      "source": [
        "# Chart - 12 visualization code"
      ],
      "metadata": {
        "id": "bwevp1tKp1ck"
      },
      "execution_count": null,
      "outputs": []
    },
    {
      "cell_type": "markdown",
      "source": [
        "##### 1. Why did you pick the specific chart?"
      ],
      "metadata": {
        "id": "ylSl6qgtp1ck"
      }
    },
    {
      "cell_type": "markdown",
      "source": [
        "Answer Here."
      ],
      "metadata": {
        "id": "m2xqNkiQp1ck"
      }
    },
    {
      "cell_type": "markdown",
      "source": [
        "##### 2. What is/are the insight(s) found from the chart?"
      ],
      "metadata": {
        "id": "ZWILFDl5p1ck"
      }
    },
    {
      "cell_type": "markdown",
      "source": [
        "Answer Here"
      ],
      "metadata": {
        "id": "x-lUsV2mp1ck"
      }
    },
    {
      "cell_type": "markdown",
      "source": [
        "##### 3. Will the gained insights help creating a positive business impact?\n",
        "Are there any insights that lead to negative growth? Justify with specific reason."
      ],
      "metadata": {
        "id": "M7G43BXep1ck"
      }
    },
    {
      "cell_type": "markdown",
      "source": [
        "Answer Here"
      ],
      "metadata": {
        "id": "5wwDJXsLp1cl"
      }
    },
    {
      "cell_type": "markdown",
      "source": [
        "#### Chart - 13"
      ],
      "metadata": {
        "id": "Ag9LCva-p1cl"
      }
    },
    {
      "cell_type": "code",
      "source": [
        "# Chart - 13 visualization code"
      ],
      "metadata": {
        "id": "EUfxeq9-p1cl"
      },
      "execution_count": null,
      "outputs": []
    },
    {
      "cell_type": "markdown",
      "source": [
        "##### 1. Why did you pick the specific chart?"
      ],
      "metadata": {
        "id": "E6MkPsBcp1cl"
      }
    },
    {
      "cell_type": "markdown",
      "source": [
        "Answer Here."
      ],
      "metadata": {
        "id": "V22bRsFWp1cl"
      }
    },
    {
      "cell_type": "markdown",
      "source": [
        "##### 2. What is/are the insight(s) found from the chart?"
      ],
      "metadata": {
        "id": "2cELzS2fp1cl"
      }
    },
    {
      "cell_type": "markdown",
      "source": [
        "Answer Here"
      ],
      "metadata": {
        "id": "ozQPc2_Ip1cl"
      }
    },
    {
      "cell_type": "markdown",
      "source": [
        "##### 3. Will the gained insights help creating a positive business impact?\n",
        "Are there any insights that lead to negative growth? Justify with specific reason."
      ],
      "metadata": {
        "id": "3MPXvC8up1cl"
      }
    },
    {
      "cell_type": "markdown",
      "source": [
        "Answer Here"
      ],
      "metadata": {
        "id": "GL8l1tdLp1cl"
      }
    },
    {
      "cell_type": "markdown",
      "source": [
        "#### Chart - 14 - Correlation Heatmap"
      ],
      "metadata": {
        "id": "NC_X3p0fY2L0"
      }
    },
    {
      "cell_type": "code",
      "source": [
        "# Correlation Heatmap visualization code"
      ],
      "metadata": {
        "id": "xyC9zolEZNRQ"
      },
      "execution_count": null,
      "outputs": []
    },
    {
      "cell_type": "markdown",
      "source": [
        "##### 1. Why did you pick the specific chart?"
      ],
      "metadata": {
        "id": "UV0SzAkaZNRQ"
      }
    },
    {
      "cell_type": "markdown",
      "source": [
        "Answer Here."
      ],
      "metadata": {
        "id": "DVPuT8LYZNRQ"
      }
    },
    {
      "cell_type": "markdown",
      "source": [
        "##### 2. What is/are the insight(s) found from the chart?"
      ],
      "metadata": {
        "id": "YPEH6qLeZNRQ"
      }
    },
    {
      "cell_type": "markdown",
      "source": [
        "Answer Here"
      ],
      "metadata": {
        "id": "bfSqtnDqZNRR"
      }
    },
    {
      "cell_type": "markdown",
      "source": [
        "#### Chart - 15 - Pair Plot"
      ],
      "metadata": {
        "id": "q29F0dvdveiT"
      }
    },
    {
      "cell_type": "code",
      "source": [
        "# Pair Plot visualization code"
      ],
      "metadata": {
        "id": "o58-TEIhveiU"
      },
      "execution_count": null,
      "outputs": []
    },
    {
      "cell_type": "markdown",
      "source": [
        "##### 1. Why did you pick the specific chart?"
      ],
      "metadata": {
        "id": "EXh0U9oCveiU"
      }
    },
    {
      "cell_type": "markdown",
      "source": [
        "Answer Here."
      ],
      "metadata": {
        "id": "eMmPjTByveiU"
      }
    },
    {
      "cell_type": "markdown",
      "source": [
        "##### 2. What is/are the insight(s) found from the chart?"
      ],
      "metadata": {
        "id": "22aHeOlLveiV"
      }
    },
    {
      "cell_type": "markdown",
      "source": [
        "Answer Here"
      ],
      "metadata": {
        "id": "uPQ8RGwHveiV"
      }
    },
    {
      "cell_type": "markdown",
      "source": [
        "## **5. Solution to Business Objective**"
      ],
      "metadata": {
        "id": "JcMwzZxoAimU"
      }
    },
    {
      "cell_type": "markdown",
      "source": [
        "#### What do you suggest the client to achieve Business Objective ?\n",
        "Explain Briefly."
      ],
      "metadata": {
        "id": "8G2x9gOozGDZ"
      }
    },
    {
      "cell_type": "markdown",
      "source": [
        "Answer Here."
      ],
      "metadata": {
        "id": "pASKb0qOza21"
      }
    },
    {
      "cell_type": "markdown",
      "source": [
        "# **Conclusion**"
      ],
      "metadata": {
        "id": "gCX9965dhzqZ"
      }
    },
    {
      "cell_type": "markdown",
      "source": [
        "Write the conclusion here."
      ],
      "metadata": {
        "id": "Fjb1IsQkh3yE"
      }
    },
    {
      "cell_type": "markdown",
      "source": [
        "### ***Hurrah! You have successfully completed your EDA Capstone Project !!!***"
      ],
      "metadata": {
        "id": "gIfDvo9L0UH2"
      }
    }
  ]
}